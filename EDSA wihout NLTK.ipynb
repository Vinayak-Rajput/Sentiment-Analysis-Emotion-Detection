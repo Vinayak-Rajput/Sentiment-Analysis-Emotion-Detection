{
 "cells": [
  {
   "cell_type": "code",
   "execution_count": null,
   "id": "c0c648a7-069c-4f33-8af4-78b61a657b17",
   "metadata": {},
   "outputs": [],
   "source": [
    "# Preprocessing of Textual Input\n",
    "\n",
    "# Step 1: Create a text file and take text from it\n",
    "# Step 2: Convert the text to lowercase\n",
    "# Step 3: Remove punctuation like . , ! ?"
   ]
  },
  {
   "cell_type": "code",
   "execution_count": null,
   "id": "2f288e6c-484e-46ec-a4c6-721079a171a1",
   "metadata": {},
   "outputs": [],
   "source": [
    "# Read input text from a file\n",
    "text = open('InputText.txt', encoding='utf-8').read()\n",
    "print(\"Original Text:\\n\", text)"
   ]
  },
  {
   "cell_type": "code",
   "execution_count": null,
   "id": "98d580f9-c867-4cbc-8acc-20287a1e0c29",
   "metadata": {},
   "outputs": [],
   "source": [
    "# Convert text to lowercase\n",
    "lower_case = text.lower()\n",
    "print(\"\\nLowercase Text:\\n\", lower_case)"
   ]
  },
  {
   "cell_type": "code",
   "execution_count": null,
   "id": "1049586d-7cd4-4426-b1a7-dd733ac2e6f9",
   "metadata": {},
   "outputs": [],
   "source": [
    "# Import the string module to access punctuation characters\n",
    "import string\n",
    "print(\"\\nPunctuation Characters:\", string.punctuation)"
   ]
  },
  {
   "cell_type": "code",
   "execution_count": null,
   "id": "f52dbca6-ccac-40ca-ac28-df9787bc3b8b",
   "metadata": {},
   "outputs": [],
   "source": [
    "# Cleaning the text by removing punctuation marks\n",
    "# Arguments for maketrans(str1, str2, str3):\n",
    "#   str1: Characters to be replaced\n",
    "#   str2: Characters to replace with\n",
    "#   str3: Characters to delete\n",
    "cleaned_text = lower_case.translate(str.maketrans('', '', string.punctuation))\n",
    "print(\"\\nCleaned Text:\\n\", cleaned_text)"
   ]
  },
  {
   "cell_type": "code",
   "execution_count": null,
   "id": "64ab65b7-ffde-4b6b-8dab-ed736ef3ae76",
   "metadata": {},
   "outputs": [],
   "source": [
    "# Tokenizing words by splitting the cleaned text\n",
    "tokenized_words = cleaned_text.split()\n",
    "print(\"\\nTokenized Words:\\n\", tokenized_words)"
   ]
  },
  {
   "cell_type": "code",
   "execution_count": null,
   "id": "abcddd71-ea7d-430d-b96b-92940c666c8a",
   "metadata": {},
   "outputs": [],
   "source": [
    "# Stop words: Common words that carry little useful information for NLP tasks\n",
    "stop_words = [\n",
    "    \"i\", \"me\", \"my\", \"myself\", \"we\", \"our\", \"ours\", \"ourselves\", \"you\", \"your\", \"yours\",\n",
    "    \"yourself\", \"yourselves\", \"he\", \"him\", \"his\", \"himself\", \"she\", \"her\", \"hers\", \"herself\",\n",
    "    \"it\", \"its\", \"itself\", \"they\", \"them\", \"their\", \"theirs\", \"themselves\", \"what\", \"which\",\n",
    "    \"who\", \"whom\", \"this\", \"that\", \"these\", \"those\", \"am\", \"is\", \"are\", \"was\", \"were\", \"be\",\n",
    "    \"been\", \"being\", \"have\", \"has\", \"had\", \"having\", \"do\", \"does\", \"did\", \"doing\", \"a\", \"an\",\n",
    "    \"the\", \"and\", \"but\", \"if\", \"or\", \"because\", \"as\", \"until\", \"while\", \"of\", \"at\", \"by\", \"for\",\n",
    "    \"with\", \"about\", \"against\", \"between\", \"into\", \"through\", \"during\", \"before\", \"after\",\n",
    "    \"above\", \"below\", \"to\", \"from\", \"up\", \"down\", \"in\", \"out\", \"on\", \"off\", \"over\", \"under\",\n",
    "    \"again\", \"further\", \"then\", \"once\", \"here\", \"there\", \"when\", \"where\", \"why\", \"how\", \"all\",\n",
    "    \"any\", \"both\", \"each\", \"few\", \"more\", \"most\", \"other\", \"some\", \"such\", \"no\", \"nor\", \"not\",\n",
    "    \"only\", \"own\", \"same\", \"so\", \"than\", \"too\", \"very\", \"s\", \"t\", \"can\", \"will\", \"just\", \"don\",\n",
    "    \"should\", \"now\"\n",
    "]\n",
    "\n",
    "# Removing stop words\n",
    "final_words = [word for word in tokenized_words if word not in stop_words]\n",
    "print(\"\\nFiltered Words (Stop Words Removed):\\n\", final_words)"
   ]
  },
  {
   "cell_type": "code",
   "execution_count": null,
   "id": "8d2a75d6-8f8d-4dd5-b5e0-7bf48b2ae29f",
   "metadata": {},
   "outputs": [],
   "source": [
    "# NLP Emotion Algorithm\n",
    "# Step 1: Check if a word in the final list matches words in Emotions.txt\n",
    "# Step 2: Extract the corresponding emotion\n",
    "# Step 3: Count the occurrences of each emotion"
   ]
  },
  {
   "cell_type": "code",
   "execution_count": null,
   "id": "bbd68d25-fecf-4296-8684-457451cc5511",
   "metadata": {},
   "outputs": [],
   "source": [
    "# Reading and processing the Emotions.txt file\n",
    "emotion_list = []\n",
    "with open('Emotions.txt', 'r') as file:\n",
    "    for line in file:\n",
    "        clean_line = line.strip().replace(\"'\", '').replace(\",\", '')\n",
    "        word, emotion = clean_line.split(':')\n",
    "        if word in final_words:\n",
    "            emotion_list.append(emotion)\n",
    "\n",
    "print(\"\\nEmotion List:\\n\", emotion_list)"
   ]
  },
  {
   "cell_type": "code",
   "execution_count": null,
   "id": "8b02aac2-688e-4b91-ac86-29b6932054e1",
   "metadata": {},
   "outputs": [],
   "source": [
    "# Counting emotions using Counter from collections\n",
    "from collections import Counter\n",
    "emotion_counts = Counter(emotion_list)\n",
    "print(\"\\nEmotion Counts:\\n\", emotion_counts)"
   ]
  },
  {
   "cell_type": "code",
   "execution_count": null,
   "id": "096e0695-c2cf-48d5-a9bc-9896592506d7",
   "metadata": {},
   "outputs": [],
   "source": [
    "# Visualizing emotions using Matplotlib\n",
    "import matplotlib.pyplot as plt\n",
    "\n",
    "plt.figure(figsize=(10, 5))\n",
    "plt.bar(emotion_counts.keys(), emotion_counts.values(), color='skyblue')\n",
    "plt.title(\"Emotion Distribution\")\n",
    "plt.xlabel(\"Emotions\")\n",
    "plt.ylabel(\"Frequency\")\n",
    "plt.xticks(rotation=45)\n",
    "plt.tight_layout()\n",
    "plt.savefig(\"emotion_graph.png\")\n",
    "plt.show()"
   ]
  }
 ],
 "metadata": {
  "kernelspec": {
   "display_name": "Python 3 (ipykernel)",
   "language": "python",
   "name": "python3"
  },
  "language_info": {
   "codemirror_mode": {
    "name": "ipython",
    "version": 3
   },
   "file_extension": ".py",
   "mimetype": "text/x-python",
   "name": "python",
   "nbconvert_exporter": "python",
   "pygments_lexer": "ipython3",
   "version": "3.12.7"
  }
 },
 "nbformat": 4,
 "nbformat_minor": 5
}
