{
 "cells": [
  {
   "cell_type": "code",
   "execution_count": 78,
   "id": "dabd66f0-5f62-417f-b51f-58132da6d672",
   "metadata": {},
   "outputs": [],
   "source": [
    "# PreProcessing of Textual Input"
   ]
  },
  {
   "cell_type": "code",
   "execution_count": 79,
   "id": "328b729d-a5ab-478e-9eae-b5dbe28ca747",
   "metadata": {},
   "outputs": [],
   "source": [
    "# Cleaning Text Steps\n",
    "# 1) Create a text file and take text from it\n",
    "# 2) Convert the letter int o lowercase \n",
    "# 3) REmove puctuations like . , !? \n",
    "\n",
    "text=open('InputText.txt', encoding='utf-8').read()\n",
    "print(text)\n"
   ]
  },
  {
   "cell_type": "code",
   "execution_count": 80,
   "id": "e7bdd5a2-4c60-4400-975e-b6fc02114639",
   "metadata": {},
   "outputs": [],
   "source": [
    "# To Convert text into lowercase\n",
    "lower_case=text.lower()\n",
    "print(lower_case)"
   ]
  },
  {
   "cell_type": "code",
   "execution_count": 81,
   "id": "6bb270e0-d0a1-4865-b69c-cf36dcbf2862",
   "metadata": {},
   "outputs": [],
   "source": [
    "# Getting all special characters or punctuation characters\n",
    "import string\n",
    "print(string.punctuation)"
   ]
  },
  {
   "cell_type": "code",
   "execution_count": 82,
   "id": "c81fd1ae-0a73-4fc1-bf53-c182b263eefd",
   "metadata": {},
   "source": [
    "# Cleaning the text from punctuation marks\n",
    "# Arguments for maketrans(str1,str2,str3)\n",
    "# str1: list of characters need to be replaced\n",
    "# str2: list of characters with which characters need to be replaced\n",
    "# str3: list of characters needs to be deleted\n",
    "cleaned_text=lower_case.translate(str.maketrans('','',string.punctuation))\n",
    "print(cleaned_text)"
   ]
  },
  {
   "cell_type": "code",
   "execution_count": 83,
   "id": "01250002-b2d4-46b7-bbd5-125acd629336",
   "metadata": {},
   "outputs": [],
   "source": [
    "# Getting tokens from text\n",
    "tokenised_words=cleaned_text.split()\n",
    "print(tokenised_words)"
   ]
  },
  {
   "cell_type": "code",
   "execution_count": 84,
   "id": "6dd3f66f-45f3-494a-90ca-e1b8bde336a7",
   "metadata": {},
   "outputs": [],
   "source": [
    "# Stop Words: Stop words in Natural Language Processing (NLP) are \n",
    "# common words in a language that are typically removed from text during\n",
    "# preprocessing because they carry little meaningful information for \n",
    "# certain tasks.\n",
    "\n",
    "stop_words = [\"i\", \"me\", \"my\", \"myself\", \"we\", \"our\", \"ours\", \"ourselves\", \"you\", \"your\", \"yours\", \"yourself\",\n",
    "              \"yourselves\", \"he\", \"him\", \"his\", \"himself\", \"she\", \"her\", \"hers\", \"herself\", \"it\", \"its\", \"itself\",\n",
    "              \"they\", \"them\", \"their\", \"theirs\", \"themselves\", \"what\", \"which\", \"who\", \"whom\", \"this\", \"that\", \"these\",\n",
    "              \"those\", \"am\", \"is\", \"are\", \"was\", \"were\", \"be\", \"been\", \"being\", \"have\", \"has\", \"had\", \"having\", \"do\",\n",
    "              \"does\", \"did\", \"doing\", \"a\", \"an\", \"the\", \"and\", \"but\", \"if\", \"or\", \"because\", \"as\", \"until\", \"while\",\n",
    "              \"of\", \"at\", \"by\", \"for\", \"with\", \"about\", \"against\", \"between\", \"into\", \"through\", \"during\", \"before\",\n",
    "              \"after\", \"above\", \"below\", \"to\", \"from\", \"up\", \"down\", \"in\", \"out\", \"on\", \"off\", \"over\", \"under\", \"again\",\n",
    "              \"further\", \"then\", \"once\", \"here\", \"there\", \"when\", \"where\", \"why\", \"how\", \"all\", \"any\", \"both\", \"each\",\n",
    "              \"few\", \"more\", \"most\", \"other\", \"some\", \"such\", \"no\", \"nor\", \"not\", \"only\", \"own\", \"same\", \"so\", \"than\",\n",
    "              \"too\", \"very\", \"s\", \"t\", \"can\", \"will\", \"just\", \"don\", \"should\", \"now\"]"
   ]
  },
  {
   "cell_type": "code",
   "execution_count": 85,
   "id": "e1ac01ff-2c49-425b-bbad-a7ba645d6640",
   "metadata": {},
   "outputs": [],
   "source": [
    "final_words = []\n",
    "for word in tokenised_words:\n",
    "    if word not in stop_words:\n",
    "        final_words.append(word)\n",
    "print(final_words)"
   ]
  },
  {
   "cell_type": "code",
   "execution_count": 86,
   "id": "00deb06f-8c09-44c3-be83-f1c2b02229c4",
   "metadata": {},
   "outputs": [],
   "source": [
    "# NLP Emotion Algorithm\n",
    "\n",
    "# 1) Check if the word in the final word list is also present in Emptions.txt\n",
    "# - open the emotion file\n",
    "# - Loop through each line and clear it\n",
    "# - Extract the word and emotion using split\n",
    "\n",
    "# 2) If word is present -> Add the emotion to emotion_list\n",
    "# 3) Finally count each emotion in the emotion list"
   ]
  },
  {
   "cell_type": "code",
   "execution_count": 87,
   "id": "617d7c74-41e6-481a-8580-c12d9d502136",
   "metadata": {},
   "outputs": [],
   "source": [
    "with open('Emotions.txt','r') as file:\n",
    "    for line in file:\n",
    "        print(line)"
   ]
  },
  {
   "cell_type": "code",
   "execution_count": 88,
   "id": "3dce4158-83d6-400e-80e1-705fc9db2ddb",
   "metadata": {},
   "outputs": [],
   "source": [
    "with open('Emotions.txt','r') as file:\n",
    "    for line in file:\n",
    "        clear_line=line.replace('\\n','')\n",
    "        print(clear_line)"
   ]
  },
  {
   "cell_type": "code",
   "execution_count": 89,
   "id": "94639c12-1f5b-49f8-92cb-4558eed77c5e",
   "metadata": {},
   "outputs": [],
   "source": [
    "with open('Emotions.txt','r') as file:\n",
    "    for line in file:\n",
    "        clear_line=line.replace('\\n','').replace(\"'\",'')\n",
    "        print(clear_line)"
   ]
  },
  {
   "cell_type": "code",
   "execution_count": 90,
   "id": "1f75cab7-6d27-48e6-9fa9-7a9cbb39c7ed",
   "metadata": {},
   "outputs": [],
   "source": [
    "with open('Emotions.txt','r') as file:\n",
    "    for line in file:\n",
    "        clear_line=line.replace('\\n','').replace(\",\",'').replace(\"'\",'').strip()\n",
    "        print(clear_line)"
   ]
  },
  {
   "cell_type": "code",
   "execution_count": 91,
   "id": "2a2b55c2-fbcf-4dd9-983b-841a0ba2ab45",
   "metadata": {},
   "outputs": [],
   "source": [
    "with open('Emotions.txt','r') as file:\n",
    "    for line in file:\n",
    "        clear_line=line.replace('\\n','').replace(\",\",'').replace(\"'\",'').strip()\n",
    "        word, emotion=clear_line.split(':')\n",
    "        print(\"word: \"+word+\" \"+\"Emotion: \"+ emotion)"
   ]
  },
  {
   "cell_type": "code",
   "execution_count": 92,
   "id": "7b761693-fb2b-4a0f-9780-7eb2c720a000",
   "metadata": {},
   "outputs": [],
   "source": [
    "# Counting Emotions first we need to find the emotions that matches emoitons corresponding to our vocabulary in dataset\n",
    "emotion_list=[]\n",
    "with open('Emotions.txt','r') as file:\n",
    "    for line in file:\n",
    "        clear_line=line.replace('\\n','').replace(\",\",'').replace(\"'\",'').strip()\n",
    "        word, emotion=clear_line.split(':')\n",
    "\n",
    "        if word in final_words:\n",
    "            emotion_list.append(emotion)\n",
    "print(emotion_list)"
   ]
  },
  {
   "cell_type": "code",
   "execution_count": 93,
   "id": "4e8c64a9-0e97-460f-926c-34fcd3132ab5",
   "metadata": {},
   "outputs": [],
   "source": [
    "from collections import Counter\n",
    "w=Counter(emotion_list)\n",
    "print(w)"
   ]
  },
  {
   "cell_type": "code",
   "execution_count": 94,
   "id": "d2c4ad61-8fc4-4c80-ace8-b2821024d1f1",
   "metadata": {},
   "outputs": [],
   "source": [
    "# Emotions in a Graph using Matplotlib\n",
    "import matplotlib.pyplot as plt\n",
    "\n",
    "fig, axl=plt.subplots()\n",
    "axl.bar(w.keys(),w.values())\n",
    "fig.autofmt_xdate()\n",
    "plt.savefig(\"graph.png\")\n",
    "plt.show()"
   ]
  },
  {
   "cell_type": "code",
   "execution_count": null,
   "id": "db5f21f6-4157-40cc-b6fd-9484e6fdfca8",
   "metadata": {},
   "outputs": [],
   "source": []
  },
  {
   "cell_type": "code",
   "execution_count": null,
   "id": "37653a42-20ff-4c70-8b19-b4009ca08ce9",
   "metadata": {},
   "outputs": [],
   "source": []
  },
  {
   "cell_type": "code",
   "execution_count": null,
   "id": "7fb31e01-6dcf-4c7e-a9f4-c7ba73af9b30",
   "metadata": {},
   "outputs": [],
   "source": []
  }
 ],
 "metadata": {
  "kernelspec": {
   "display_name": "Python 3 (ipykernel)",
   "language": "python",
   "name": "python3"
  },
  "language_info": {
   "codemirror_mode": {
    "name": "ipython",
    "version": 3
   },
   "file_extension": ".py",
   "mimetype": "text/x-python",
   "name": "python",
   "nbconvert_exporter": "python",
   "pygments_lexer": "ipython3",
   "version": "3.12.7"
  }
 },
 "nbformat": 4,
 "nbformat_minor": 5
}
